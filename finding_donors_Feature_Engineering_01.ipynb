{
 "cells": [
  {
   "cell_type": "markdown",
   "metadata": {},
   "source": [
    "# Finding Donors for *CharityML*\n",
    "## Feature Engineering 01\n",
    "### Kebei Jiang 06/08/2019"
   ]
  },
  {
   "cell_type": "markdown",
   "metadata": {},
   "source": [
    "### Problem at hand  \n",
    "Preliminary modeling shows low recall on target variable. And I suspect this is related to the unbalance between target classes.  \n",
    "\n",
    "### Goal  \n",
    "Test different tricks to imporve inter-class balance and therefore recall."
   ]
  },
  {
   "cell_type": "markdown",
   "metadata": {},
   "source": [
    "-----"
   ]
  },
  {
   "cell_type": "code",
   "execution_count": 1,
   "metadata": {},
   "outputs": [],
   "source": [
    "# Import libraries necessary for this project\n",
    "import numpy as np\n",
    "import pandas as pd\n",
    "from time import time\n",
    "from IPython.display import display # Allows the use of display() for DataFrames\n",
    "\n",
    "# Import libraries for visulization\n",
    "import matplotlib.pyplot as plt\n",
    "import seaborn as sns\n",
    "\n",
    "#plt.style.use('ggplot')\n",
    "%matplotlib inline\n",
    "\n",
    "sns.set(color_codes=True)"
   ]
  },
  {
   "cell_type": "code",
   "execution_count": 2,
   "metadata": {},
   "outputs": [],
   "source": [
    "from sklearn.metrics import fbeta_score\n",
    "from sklearn.metrics import accuracy_score\n",
    "from sklearn.metrics import precision_recall_fscore_support, classification_report, confusion_matrix\n",
    "\n",
    "from sklearn.linear_model import LogisticRegression\n",
    "from sklearn.ensemble import RandomForestClassifier, AdaBoostClassifier, GradientBoostingClassifier"
   ]
  },
  {
   "cell_type": "code",
   "execution_count": 3,
   "metadata": {},
   "outputs": [],
   "source": [
    "# load self-defined functions\n",
    "\n",
    "#import ft_engineer\n",
    "from ft_engineer import ft_num_engineer, ft_cat_eda, ft_engineer\n",
    "from mod_training import xy_split, train_predict"
   ]
  },
  {
   "cell_type": "code",
   "execution_count": 4,
   "metadata": {},
   "outputs": [],
   "source": [
    "# Load the Census dataset\n",
    "data = pd.read_csv(\"census.csv\")\n",
    "ft_num = data.select_dtypes(include=['int64','float64']).columns.values\n",
    "ft_cat = data.select_dtypes(exclude=['int64','float64']).columns.values"
   ]
  },
  {
   "cell_type": "code",
   "execution_count": 5,
   "metadata": {},
   "outputs": [],
   "source": [
    "# printing classification infos\n",
    "\n",
    "def print_clf_info(y_test, y_pred):\n",
    "    print('\\nThe confusion matrix looks like: ')\n",
    "    print(confusion_matrix(y_test, y_pred))\n",
    "    #sns.heatmap(cm, annot=True, fmt='.2g')\n",
    "\n",
    "    print('\\nThe classification report looks like: ')\n",
    "    print(classification_report(y_test, y_pred, target_names=['<=50K', '>50K']))\n",
    "\n",
    "    print(\"Final F-score with beta={} on the testing data: {:.4f}\".format(2, fbeta_score(y_test, y_pred, beta=2)))     "
   ]
  },
  {
   "cell_type": "code",
   "execution_count": 6,
   "metadata": {},
   "outputs": [],
   "source": [
    "# train test split\n",
    "from sklearn.model_selection import train_test_split\n",
    "\n",
    "def xy_split(data, target, random_state):\n",
    "    return train_test_split(data, target, test_size = 0.2, random_state = random_state)\n",
    "    # Show the results of the split\n",
    "    #print(\"Training set has {} samples.\".format(X_train.shape[0]))\n",
    "    #print(\"Testing set has {} samples.\".format(X_test.shape[0]))"
   ]
  },
  {
   "cell_type": "markdown",
   "metadata": {},
   "source": [
    "## benchmark"
   ]
  },
  {
   "cell_type": "code",
   "execution_count": 7,
   "metadata": {},
   "outputs": [],
   "source": [
    "tmp, target = ft_engineer(data, capital=False, workclass=False, occupation=False, \\\n",
    "                          marital=False, relationship=False, race=False, drop_native_country=False)\n",
    "\n",
    "X_train, X_test, y_train, y_test = xy_split(tmp, target, 0)"
   ]
  },
  {
   "cell_type": "code",
   "execution_count": 8,
   "metadata": {},
   "outputs": [
    {
     "name": "stdout",
     "output_type": "stream",
     "text": [
      "\n",
      "The confusion matrix looks like: \n",
      "[[6301  539]\n",
      " [ 891 1314]]\n",
      "\n",
      "The classification report looks like: \n",
      "              precision    recall  f1-score   support\n",
      "\n",
      "       <=50K       0.88      0.92      0.90      6840\n",
      "        >50K       0.71      0.60      0.65      2205\n",
      "\n",
      "    accuracy                           0.84      9045\n",
      "   macro avg       0.79      0.76      0.77      9045\n",
      "weighted avg       0.84      0.84      0.84      9045\n",
      "\n",
      "Final F-score with beta=2 on the testing data: 0.6156\n"
     ]
    }
   ],
   "source": [
    "clf = LogisticRegression(solver='liblinear')\n",
    "#clf_name = clf.__class__.__name__\n",
    "    \n",
    "clf.fit(X_train, y_train)\n",
    "y_pred = clf.predict(X_test)\n",
    " \n",
    "print_clf_info(y_test, y_pred)"
   ]
  },
  {
   "cell_type": "markdown",
   "metadata": {},
   "source": [
    "## Method 0, introduce 'class_weight' or 'sample_weight' to training"
   ]
  },
  {
   "cell_type": "code",
   "execution_count": 9,
   "metadata": {},
   "outputs": [
    {
     "name": "stdout",
     "output_type": "stream",
     "text": [
      "\n",
      "The confusion matrix looks like: \n",
      "[[5385 1455]\n",
      " [ 355 1850]]\n",
      "\n",
      "The classification report looks like: \n",
      "              precision    recall  f1-score   support\n",
      "\n",
      "       <=50K       0.94      0.79      0.86      6840\n",
      "        >50K       0.56      0.84      0.67      2205\n",
      "\n",
      "    accuracy                           0.80      9045\n",
      "   macro avg       0.75      0.81      0.76      9045\n",
      "weighted avg       0.85      0.80      0.81      9045\n",
      "\n",
      "Final F-score with beta=2 on the testing data: 0.7629\n"
     ]
    }
   ],
   "source": [
    "# with class_weight specified, recall and f2 score improved significantly over benchmark\n",
    "\n",
    "clf = LogisticRegression(solver='liblinear', class_weight='balanced')\n",
    "#clf_name = clf.__class__.__name__\n",
    "    \n",
    "clf.fit(X_train, y_train)\n",
    "y_pred = clf.predict(X_test)\n",
    " \n",
    "print_clf_info(y_test, y_pred)"
   ]
  },
  {
   "cell_type": "code",
   "execution_count": 10,
   "metadata": {},
   "outputs": [
    {
     "name": "stdout",
     "output_type": "stream",
     "text": [
      "\n",
      "The confusion matrix looks like: \n",
      "[[6426  414]\n",
      " [ 874 1331]]\n",
      "\n",
      "The classification report looks like: \n",
      "              precision    recall  f1-score   support\n",
      "\n",
      "       <=50K       0.88      0.94      0.91      6840\n",
      "        >50K       0.76      0.60      0.67      2205\n",
      "\n",
      "    accuracy                           0.86      9045\n",
      "   macro avg       0.82      0.77      0.79      9045\n",
      "weighted avg       0.85      0.86      0.85      9045\n",
      "\n",
      "Final F-score with beta=2 on the testing data: 0.6299\n",
      "\n",
      "The confusion matrix looks like: \n",
      "[[5581 1259]\n",
      " [ 342 1863]]\n",
      "\n",
      "The classification report looks like: \n",
      "              precision    recall  f1-score   support\n",
      "\n",
      "       <=50K       0.94      0.82      0.87      6840\n",
      "        >50K       0.60      0.84      0.70      2205\n",
      "\n",
      "    accuracy                           0.82      9045\n",
      "   macro avg       0.77      0.83      0.79      9045\n",
      "weighted avg       0.86      0.82      0.83      9045\n",
      "\n",
      "Final F-score with beta=2 on the testing data: 0.7800\n"
     ]
    }
   ],
   "source": [
    "# some model does not have class_weight option\n",
    "# use sample_weight instead\n",
    " \n",
    "from sklearn.utils.class_weight import compute_sample_weight\n",
    "\n",
    "sample_weight = compute_sample_weight('balanced', y_train, indices=None)\n",
    " \n",
    "clf = AdaBoostClassifier()\n",
    "#clf_name = clf.__class__.__name__\n",
    "    \n",
    "clf.fit(X_train, y_train, sample_weight=sample_weight)\n",
    "y_pred = clf.fit(X_train, y_train).predict(X_test)\n",
    "y_pred_weighted = clf.fit(X_train, y_train, sample_weight=sample_weight).predict(X_test)\n",
    " \n",
    "print_clf_info(y_test, y_pred)\n",
    "print_clf_info(y_test, y_pred_weighted)"
   ]
  },
  {
   "cell_type": "markdown",
   "metadata": {},
   "source": [
    "**Tricks**\n",
    "* [On sample weight](https://stackoverflow.com/questions/34389624/what-does-sample-weight-do-to-the-way-a-decisiontreeclassifier-works-in-skle)  \n",
    "* [Tips on practical use](https://scikit-learn.org/stable/modules/tree.html#classification)  \n",
    "* [Sample weight from Class weight](https://scikit-learn.org/stable/modules/generated/sklearn.utils.class_weight.compute_sample_weight.html)  \n",
    "\n",
    "**Why balancing matters?**\n"
   ]
  },
  {
   "cell_type": "code",
   "execution_count": null,
   "metadata": {},
   "outputs": [],
   "source": []
  },
  {
   "cell_type": "markdown",
   "metadata": {},
   "source": [
    "## Method 1, upsampling '>50K' with SMOTE"
   ]
  },
  {
   "cell_type": "code",
   "execution_count": 92,
   "metadata": {},
   "outputs": [
    {
     "name": "stdout",
     "output_type": "stream",
     "text": [
      "before SMOTE:\n",
      "number of instances for class 0 is 27174\n",
      "number of instances for class 1 is 9003\n",
      "after SMOTE:\n",
      "number of instances for class 0 is 27174\n",
      "number of instances for class 1 is 27174\n",
      "The original instance are intact: True\n"
     ]
    },
    {
     "data": {
      "text/plain": [
       "0"
      ]
     },
     "execution_count": 92,
     "metadata": {},
     "output_type": "execute_result"
    }
   ],
   "source": [
    "tmp, target = ft_engineer(data.copy()) # all False by default\n",
    "\n",
    "X_train, X_test, y_train, y_test = xy_split(tmp, target, 0)\n",
    "\n",
    "# before SMOTE\n",
    "u, ct = np.unique(y_train, return_counts=True)\n",
    "print('before SMOTE:')\n",
    "print(\"number of instances for class {} is {}\".format(u[0], ct[0]))\n",
    "print(\"number of instances for class {} is {}\".format(u[1], ct[1]))\n",
    "\n",
    "from imblearn.over_sampling import SMOTE\n",
    "\n",
    "os = SMOTE(random_state=0)\n",
    "\n",
    "X_upsamp, y_upsamp = os.fit_sample(X_train, y_train)\n",
    "X_upsamp = pd.DataFrame(data=X_upsamp,columns=X_train.columns )\n",
    "\n",
    "# after SMOTE\n",
    "u, ct = np.unique(y_upsamp, return_counts=True)\n",
    "\n",
    "print('after SMOTE:')\n",
    "print(\"number of instances for class {} is {}\".format(u[0], ct[0]))\n",
    "print(\"number of instances for class {} is {}\".format(u[1], ct[1]))\n",
    "\n",
    "# double check that SMOTE works as expected\n",
    "# The original X_train and y_train was not changed\n",
    "X_diff = (X_train['age'].values-X_upsamp.iloc[:X_train.shape[0]]['age'].values).sum()\n",
    "y_diff = (y_train - y_upsamp[:X_train.shape[0]]).sum()\n",
    "print('The original instance are intact: {}'.format((X_diff==0)&(y_diff==0)))\n",
    "# The interpolated are on the tail\n",
    "(y_upsamp[X_train.shape[0]:]==0).sum()"
   ]
  },
  {
   "cell_type": "code",
   "execution_count": 23,
   "metadata": {},
   "outputs": [
    {
     "name": "stderr",
     "output_type": "stream",
     "text": [
      "C:\\Users\\Kebei\\AppData\\Local\\Continuum\\anaconda3\\lib\\site-packages\\scipy\\stats\\stats.py:1713: FutureWarning: Using a non-tuple sequence for multidimensional indexing is deprecated; use `arr[tuple(seq)]` instead of `arr[seq]`. In the future this will be interpreted as an array index, `arr[np.array(seq)]`, which will result either in an error or a different result.\n",
      "  return np.add.reduce(sorted[indexer] * weights, axis=axis) / sumval\n"
     ]
    },
    {
     "data": {
      "image/png": "[encoded data removed]",
      "text/plain": [
       "<Figure size 720x432 with 1 Axes>"
      ]
     },
     "metadata": {
      "needs_background": "light"
     },
     "output_type": "display_data"
    }
   ],
   "source": [
    "fig = plt.figure(figsize=(10,6))\n",
    "sns.distplot(X_upsamp.iloc[X_train.shape[0]:]['hours-per-week'], label='interpolated')\n",
    "sns.distplot(X_train[y_train==1]['hours-per-week'], label='original')\n",
    "plt.legend()\n",
    "plt.show()"
   ]
  },
  {
   "cell_type": "code",
   "execution_count": 22,
   "metadata": {},
   "outputs": [
    {
     "name": "stdout",
     "output_type": "stream",
     "text": [
      "\n",
      "The confusion matrix looks like: \n",
      "[[5373 1467]\n",
      " [ 362 1843]]\n",
      "\n",
      "The classification report looks like: \n",
      "              precision    recall  f1-score   support\n",
      "\n",
      "       <=50K       0.94      0.79      0.85      6840\n",
      "        >50K       0.56      0.84      0.67      2205\n",
      "\n",
      "    accuracy                           0.80      9045\n",
      "   macro avg       0.75      0.81      0.76      9045\n",
      "weighted avg       0.84      0.80      0.81      9045\n",
      "\n",
      "Final F-score with beta=2 on the testing data: 0.7597\n"
     ]
    }
   ],
   "source": [
    "# training with upsampled data\n",
    "\n",
    "clf = LogisticRegression(solver='liblinear')\n",
    "#clf_name = clf.__class__.__name__\n",
    "    \n",
    "clf.fit(X_upsamp, y_upsamp)\n",
    "y_pred = clf.predict(X_test)\n",
    " \n",
    "print_clf_info(y_test, y_pred)"
   ]
  },
  {
   "cell_type": "markdown",
   "metadata": {},
   "source": [
    "**Observations**  \n",
    " * Recall and f2 score are improved over benchmark\n",
    "\n",
    "**Pros**  \n",
    " * KNN interpolation; preserves the original distributions  \n",
    " * Ends up with more data  \n",
    "\n",
    "**Cons**  \n",
    " * Artificial data can be misleading"
   ]
  },
  {
   "cell_type": "markdown",
   "metadata": {},
   "source": [
    "## Method 2, downsampling '<=50K' with random discard"
   ]
  },
  {
   "cell_type": "code",
   "execution_count": 98,
   "metadata": {},
   "outputs": [],
   "source": [
    "# keep all '>50K' instances\n",
    "X_train_1 = X_train.loc[y_train==1]\n",
    "# choose randomly as many '<=50K' instances\n",
    "X_train_0 = X_train.loc[y_train==0].sample(n=len(X_train_1))\n",
    "# combine and shuffle\n",
    "X_train_downsamp = pd.concat([X_train_1, X_train_0]).sample(frac=1)\n",
    "\n",
    "y_train_downsamp = pd.DataFrame(y_train, index=X_train.index)\n",
    "y_train_downsamp = y_train_downsamp.loc[X_train_downsamp.index]"
   ]
  },
  {
   "cell_type": "code",
   "execution_count": 110,
   "metadata": {},
   "outputs": [
    {
     "name": "stdout",
     "output_type": "stream",
     "text": [
      "\n",
      "The confusion matrix looks like: \n",
      "[[5375 1465]\n",
      " [ 354 1851]]\n",
      "\n",
      "The classification report looks like: \n",
      "              precision    recall  f1-score   support\n",
      "\n",
      "           0       0.94      0.79      0.86      6840\n",
      "           1       0.56      0.84      0.67      2205\n",
      "\n",
      "    accuracy                           0.80      9045\n",
      "   macro avg       0.75      0.81      0.76      9045\n",
      "weighted avg       0.85      0.80      0.81      9045\n",
      "\n",
      "Final F-score with beta=2 on the testing data: 0.7626\n"
     ]
    }
   ],
   "source": [
    "clf = LogisticRegression(solver='liblinear')\n",
    "#clf_name = clf.__class__.__name__\n",
    "\n",
    "clf.fit(X_train_downsamp, y_train_downsamp.values.ravel())\n",
    "y_pred = clf.predict(X_test)\n",
    "\n",
    "cm = confusion_matrix(y_test, y_pred)\n",
    "print('\\nThe confusion matrix looks like: ')\n",
    "print(cm)\n",
    "\n",
    "print('\\nThe classification report looks like: ')\n",
    "print(classification_report(y_test, y_pred))\n",
    "\n",
    "print(\"Final F-score with beta={} on the testing data: {:.4f}\".format(2, fbeta_score(y_test, y_pred, beta=2))) "
   ]
  },
  {
   "cell_type": "markdown",
   "metadata": {},
   "source": [
    "**Pros**  \n",
    " * No artificial data  \n",
    " * Results improved\n",
    "\n",
    "**Cons**  \n",
    " * Waste of data?"
   ]
  },
  {
   "cell_type": "markdown",
   "metadata": {},
   "source": [
    "## Method 3, upsampling and downsampling?"
   ]
  },
  {
   "cell_type": "code",
   "execution_count": null,
   "metadata": {},
   "outputs": [],
   "source": []
  },
  {
   "cell_type": "code",
   "execution_count": null,
   "metadata": {},
   "outputs": [],
   "source": []
  }
 ],
 "metadata": {
  "kernelspec": {
   "display_name": "Python 3",
   "language": "python",
   "name": "python3"
  },
  "language_info": {
   "codemirror_mode": {
    "name": "ipython",
    "version": 3
   },
   "file_extension": ".py",
   "mimetype": "text/x-python",
   "name": "python",
   "nbconvert_exporter": "python",
   "pygments_lexer": "ipython3",
   "version": "3.7.1"
  }
 },
 "nbformat": 4,
 "nbformat_minor": 2
}
